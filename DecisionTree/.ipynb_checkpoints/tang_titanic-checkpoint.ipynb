{
 "cells": [
  {
   "cell_type": "code",
   "execution_count": 2,
   "metadata": {},
   "outputs": [],
   "source": [
    "import pandas as pd\n",
    "import numpy as np\n",
    "from matplotlib import pyplot as plt\n",
    "import re    # 正则用到"
   ]
  },
  {
   "cell_type": "markdown",
   "metadata": {},
   "source": [
    "# 1.数据导入"
   ]
  },
  {
   "cell_type": "code",
   "execution_count": 3,
   "metadata": {},
   "outputs": [
    {
     "name": "stdout",
     "output_type": "stream",
     "text": [
      "       PassengerId    Survived      Pclass         Age       SibSp  \\\n",
      "count   891.000000  891.000000  891.000000  714.000000  891.000000   \n",
      "mean    446.000000    0.383838    2.308642   29.699118    0.523008   \n",
      "std     257.353842    0.486592    0.836071   14.526497    1.102743   \n",
      "min       1.000000    0.000000    1.000000    0.420000    0.000000   \n",
      "25%     223.500000    0.000000    2.000000   20.125000    0.000000   \n",
      "50%     446.000000    0.000000    3.000000   28.000000    0.000000   \n",
      "75%     668.500000    1.000000    3.000000   38.000000    1.000000   \n",
      "max     891.000000    1.000000    3.000000   80.000000    8.000000   \n",
      "\n",
      "            Parch        Fare  \n",
      "count  891.000000  891.000000  \n",
      "mean     0.381594   32.204208  \n",
      "std      0.806057   49.693429  \n",
      "min      0.000000    0.000000  \n",
      "25%      0.000000    7.910400  \n",
      "50%      0.000000   14.454200  \n",
      "75%      0.000000   31.000000  \n",
      "max      6.000000  512.329200  \n"
     ]
    }
   ],
   "source": [
    "#1、数据导入\n",
    "# pd.set_option('display.max_columns', None)  # 显示所有列。这个加不加好像都可以。\n",
    "titanic = pd.read_csv('titanic_train.csv')  # 使用pandas读取CSV文件\n",
    "print(titanic.describe())        # titanic.describe()是用pandas计算count、mean等，注意有括号。"
   ]
  },
  {
   "cell_type": "markdown",
   "metadata": {},
   "source": [
    "# 2.数据清洗"
   ]
  },
  {
   "cell_type": "code",
   "execution_count": 4,
   "metadata": {},
   "outputs": [
    {
     "name": "stdout",
     "output_type": "stream",
     "text": [
      "       PassengerId    Survived      Pclass         Age       SibSp  \\\n",
      "count   891.000000  891.000000  891.000000  891.000000  891.000000   \n",
      "mean    446.000000    0.383838    2.308642   29.361582    0.523008   \n",
      "std     257.353842    0.486592    0.836071   13.019697    1.102743   \n",
      "min       1.000000    0.000000    1.000000    0.420000    0.000000   \n",
      "25%     223.500000    0.000000    2.000000   22.000000    0.000000   \n",
      "50%     446.000000    0.000000    3.000000   28.000000    0.000000   \n",
      "75%     668.500000    1.000000    3.000000   35.000000    1.000000   \n",
      "max     891.000000    1.000000    3.000000   80.000000    8.000000   \n",
      "\n",
      "            Parch        Fare  \n",
      "count  891.000000  891.000000  \n",
      "mean     0.381594   32.204208  \n",
      "std      0.806057   49.693429  \n",
      "min      0.000000    0.000000  \n",
      "25%      0.000000    7.910400  \n",
      "50%      0.000000   14.454200  \n",
      "75%      0.000000   31.000000  \n",
      "max      6.000000  512.329200  \n",
      "['male' 'female']\n",
      "S    644\n",
      "C    168\n",
      "Q     77\n",
      "Name: Embarked, dtype: int64\n",
      "     PassengerId  Survived  Pclass  \\\n",
      "0              1         0       3   \n",
      "1              2         1       1   \n",
      "2              3         1       3   \n",
      "3              4         1       1   \n",
      "4              5         0       3   \n",
      "..           ...       ...     ...   \n",
      "886          887         0       2   \n",
      "887          888         1       1   \n",
      "888          889         0       3   \n",
      "889          890         1       1   \n",
      "890          891         0       3   \n",
      "\n",
      "                                                  Name Sex   Age  SibSp  \\\n",
      "0                              Braund, Mr. Owen Harris   0  22.0      1   \n",
      "1    Cumings, Mrs. John Bradley (Florence Briggs Th...   1  38.0      1   \n",
      "2                               Heikkinen, Miss. Laina   1  26.0      0   \n",
      "3         Futrelle, Mrs. Jacques Heath (Lily May Peel)   1  35.0      1   \n",
      "4                             Allen, Mr. William Henry   0  35.0      0   \n",
      "..                                                 ...  ..   ...    ...   \n",
      "886                              Montvila, Rev. Juozas   0  27.0      0   \n",
      "887                       Graham, Miss. Margaret Edith   1  19.0      0   \n",
      "888           Johnston, Miss. Catherine Helen \"Carrie\"   1  28.0      1   \n",
      "889                              Behr, Mr. Karl Howell   0  26.0      0   \n",
      "890                                Dooley, Mr. Patrick   0  32.0      0   \n",
      "\n",
      "     Parch            Ticket     Fare Cabin Embarked  \n",
      "0        0         A/5 21171   7.2500   NaN        0  \n",
      "1        0          PC 17599  71.2833   C85        1  \n",
      "2        0  STON/O2. 3101282   7.9250   NaN        0  \n",
      "3        0            113803  53.1000  C123        0  \n",
      "4        0            373450   8.0500   NaN        0  \n",
      "..     ...               ...      ...   ...      ...  \n",
      "886      0            211536  13.0000   NaN        0  \n",
      "887      0            112053  30.0000   B42        0  \n",
      "888      2        W./C. 6607  23.4500   NaN        0  \n",
      "889      0            111369  30.0000  C148        1  \n",
      "890      0            370376   7.7500   NaN        2  \n",
      "\n",
      "[891 rows x 12 columns]\n"
     ]
    }
   ],
   "source": [
    "# 有部分数据记录的Age字段缺失，这里用中间值给它补全。fillna是pandas的缺失值补全函数。\n",
    "titanic['Age'] = titanic['Age'].fillna(titanic['Age'].median())\n",
    "print(titanic.describe())\n",
    "\n",
    "# 性别有男女，但字符无法进行矩阵运算，所以将male替换为0，female替换为1。\n",
    "print(titanic['Sex'].unique())  # 查看Sex字段共有几种分类['male' 'female']\n",
    "titanic.loc[titanic['Sex'] == 'male', 'Sex'] = 0\n",
    "titanic.loc[titanic['Sex'] == 'female', 'Sex'] = 1\n",
    "\n",
    "# 同样上船地点有S、C、Q。不过这里缺失值用众数替换，因为谁多那么缺失值是该的可能性就越大。\n",
    "print(titanic['Embarked'].value_counts())\n",
    "titanic['Embarked'] = titanic['Embarked'].fillna('S')\n",
    "titanic.loc[titanic['Embarked'] == 'S', 'Embarked'] = 0\n",
    "titanic.loc[titanic['Embarked'] == 'C', 'Embarked'] = 1\n",
    "titanic.loc[titanic['Embarked'] == 'Q', 'Embarked'] = 2\n",
    "\n",
    "print(titanic) # 打印清洗过后的数据集"
   ]
  },
  {
   "cell_type": "markdown",
   "metadata": {},
   "source": [
    "# 3.线性回归、逻辑回归来预测（可以直接忽略？）"
   ]
  },
  {
   "cell_type": "code",
   "execution_count": 15,
   "metadata": {},
   "outputs": [
    {
     "name": "stdout",
     "output_type": "stream",
     "text": [
      "0.7833894500561167\n",
      "0.7878787878787877\n"
     ]
    },
    {
     "name": "stderr",
     "output_type": "stream",
     "text": [
      "C:\\development\\Anaconda3\\lib\\site-packages\\sklearn\\model_selection\\_split.py:296: FutureWarning: Setting a random_state has no effect since shuffle is False. This will raise an error in 0.24. You should leave random_state to its default (None), or set shuffle=True.\n",
      "  FutureWarning\n"
     ]
    }
   ],
   "source": [
    "from sklearn.linear_model import LinearRegression #线性回归\n",
    "from sklearn.model_selection import KFold #交叉验证用。因为test测试集很宝贵，所以在训练集分几等份来互相做交叉验证。\n",
    "\n",
    "predictors = ['Pclass', 'Sex', 'Age', 'SibSp', 'Parch', 'Fare', 'Embarked']  # 指定一些特征。\n",
    "alg = LinearRegression()    # sklearn的线性回归模型\n",
    "kf = KFold(n_splits=3, random_state=1).split(titanic) # 将titanic数据集分成3份做交叉验证？？\n",
    "predictions = []\n",
    "for train, test in kf:\n",
    "    train_predictors = titanic[predictors].iloc[train, :]\n",
    "    # print(train_predictors)\n",
    "    train_target = titanic['Survived'].iloc[train]\n",
    "    # print(train_target)\n",
    "    alg.fit(train_predictors, train_target)\n",
    "    test_predictions = alg.predict(titanic[predictors].iloc[test, :])\n",
    "    # print(titanic[predictors].iloc[test, :])\n",
    "    predictions.append(test_predictions)\n",
    "predictions = np.concatenate(predictions, axis=0)\n",
    "predictions[predictions > .5] = 1\n",
    "predictions[predictions <=.5] = 0\n",
    "accuracy = len(predictions[predictions == titanic['Survived']]) / len(predictions)\n",
    "print(accuracy)\n",
    "\n",
    "#4、逻辑回归 精度：0.78787\n",
    "from sklearn import model_selection\n",
    "from sklearn.linear_model import LogisticRegression #逻辑回归\n",
    "\n",
    "alg = LogisticRegression(random_state=1, solver='liblinear')\n",
    "scores = model_selection.cross_val_score(alg, titanic[predictors], titanic['Survived'], cv=3)\n",
    "print(scores.mean())"
   ]
  },
  {
   "cell_type": "markdown",
   "metadata": {},
   "source": [
    "# 4.随机森林"
   ]
  },
  {
   "cell_type": "code",
   "execution_count": 16,
   "metadata": {},
   "outputs": [
    {
     "name": "stderr",
     "output_type": "stream",
     "text": [
      "C:\\development\\Anaconda3\\lib\\site-packages\\sklearn\\model_selection\\_split.py:296: FutureWarning: Setting a random_state has no effect since shuffle is False. This will raise an error in 0.24. You should leave random_state to its default (None), or set shuffle=True.\n",
      "  FutureWarning\n"
     ]
    },
    {
     "name": "stdout",
     "output_type": "stream",
     "text": [
      "0.8237934904601572\n"
     ]
    }
   ],
   "source": [
    "from sklearn.ensemble import RandomForestClassifier   # 导入随机森林库\n",
    "from sklearn import model_selection\n",
    "\n",
    "# 注意首先调参，参数调完再调原始数据\n",
    "predictors = ['Pclass', 'Sex', 'Age', 'SibSp', 'Parch', 'Fare', 'Embarked']  # 指定一些特征。\n",
    "alg = RandomForestClassifier(random_state=1, n_estimators=50, min_samples_split=4, min_samples_leaf=3)   # 定义随机森林（随机数种子，森林中有50棵树，当某次划分后样本数小于等于4则该叶子不再继续划分，当某次划分后叶子节点数小于等于3则直接丢弃）\n",
    "kf = model_selection.KFold(n_splits=3, random_state=1).split(titanic)     # 将titanic训练集交叉验证3次。注意这个titanic只是训练集，测试集是单独的一个。\n",
    "scores = model_selection.cross_val_score(alg, titanic[predictors], titanic['Survived'], cv=kf)    # 会自动训练随机森林模型，CV就是cross-vaildate交叉验证的意思。返回的是由k个score组成的array。\n",
    "print(scores.mean())   # 因为交叉验证好几次，所以求平均准确度"
   ]
  },
  {
   "cell_type": "markdown",
   "metadata": {},
   "source": [
    "# 5.挖掘原始数据可能存在的特征"
   ]
  },
  {
   "cell_type": "code",
   "execution_count": 17,
   "metadata": {},
   "outputs": [],
   "source": [
    "# 模型调参依然准确度不提升后，在原始数据上下功夫\n",
    "titanic['FamilySize'] = titanic['SibSp'] + titanic['Parch']          # 数据集新增FamilySize一列（家庭规模）\n",
    "titanic['NameLength'] = titanic['Name'].apply(lambda x: len(x))      # 数据集新增NameLength一列（名字长度）\n",
    "\n",
    "def get_title(name):\n",
    "    title_search = re.search('([A-Za-z]+)\\.', name)\n",
    "    if title_search:\n",
    "        return title_search.group(1)\n",
    "    return ''\n",
    "\n",
    "titles = titanic['Name'].apply(get_title)\n",
    "title_mapping = {'Mr': 1, 'Miss': 2, 'Mrs': 3, 'Master': 4, 'Dr': 5, 'Rev': 6, 'Major': 7, 'Col': 7, 'Mlle': 8,\n",
    "                 'Mme': 9, 'Lady': 10, 'Countess': 11, 'Capt': 12, 'Don': 13, 'Sir': 14, 'Jonkheer': 15, 'Ms': 16}\n",
    "for k, v in title_mapping.items():\n",
    "    titles[titles == k] = v\n",
    "# print(pd.value_counts(titles))\n",
    "titanic['Title'] = titles         # 数据集新增一列（称呼：Mr、Miss、Mrs......）"
   ]
  },
  {
   "cell_type": "markdown",
   "metadata": {},
   "source": [
    "# 6.特征重要性"
   ]
  },
  {
   "cell_type": "code",
   "execution_count": 18,
   "metadata": {},
   "outputs": [
    {
     "data": {
      "image/png": "[encoded data removed]",
      "text/plain": [
       "<Figure size 432x288 with 1 Axes>"
      ]
     },
     "metadata": {
      "needs_background": "light"
     },
     "output_type": "display_data"
    }
   ],
   "source": [
    "from sklearn.feature_selection import SelectKBest, f_classif    # SelectKBest就是自动评估数据集特征重要性的。原理是为特征加噪声，如果模型准确度变化不大就认为该特征没用。\n",
    "\n",
    "\n",
    "predictors = ['Pclass', 'Sex', 'Age', 'SibSp', 'Parch', 'Fare', 'Embarked', 'FamilySize', 'Title', 'NameLength']   # 候选特征\n",
    "selector = SelectKBest(f_classif, k=5)\n",
    "selector.fit(titanic[predictors], titanic['Survived'])   # 将候选特征和label标签喂给selector\n",
    "scores = -np.log10(selector.pvalues_)\n",
    "plt.bar(range(len(predictors)), scores)\n",
    "plt.xticks(range(len(predictors)), predictors, rotation='vertical')\n",
    "plt.show()   # 柱状图越高则特征重要性越高，对于没用特征我们可以从随机森林中剔除。"
   ]
  },
  {
   "cell_type": "code",
   "execution_count": null,
   "metadata": {},
   "outputs": [],
   "source": []
  }
 ],
 "metadata": {
  "kernelspec": {
   "display_name": "Python 3",
   "language": "python",
   "name": "python3"
  },
  "language_info": {
   "codemirror_mode": {
    "name": "ipython",
    "version": 3
   },
   "file_extension": ".py",
   "mimetype": "text/x-python",
   "name": "python",
   "nbconvert_exporter": "python",
   "pygments_lexer": "ipython3",
   "version": "3.7.6"
  }
 },
 "nbformat": 4,
 "nbformat_minor": 4
}

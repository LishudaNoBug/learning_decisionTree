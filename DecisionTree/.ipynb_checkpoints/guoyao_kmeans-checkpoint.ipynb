{
 "cells": [
  {
   "cell_type": "markdown",
   "metadata": {},
   "source": [
    "# 翟工基于k-means算法根据draught判断是装货还是卸货"
   ]
  },
  {
   "cell_type": "code",
   "execution_count": 75,
   "metadata": {},
   "outputs": [],
   "source": [
    "import pandas as pd\n",
    "import numpy as np\n",
    "import matplotlib.pyplot as plt\n",
    "from sklearn.cluster import KMeans\n",
    "%matplotlib inline"
   ]
  },
  {
   "cell_type": "code",
   "execution_count": 78,
   "metadata": {
    "scrolled": true
   },
   "outputs": [
    {
     "name": "stdout",
     "output_type": "stream",
     "text": [
      "                 updatetime  speed  draught  speed_v0        updatetime_t0\n",
      "0       2017-07-02 18:59:10   11.4      4.3      11.4  2017-07-02 18:59:20\n",
      "1       2017-07-02 18:59:20   11.4      4.3      11.1  2017-07-02 19:11:10\n",
      "2       2017-07-02 19:11:10   11.1      4.3      11.1  2017-07-02 19:11:21\n",
      "3       2017-07-02 19:11:21   11.1      4.3      10.7  2017-07-02 19:35:25\n",
      "4       2017-07-02 19:35:25   10.7      4.3      10.7  2017-07-02 19:35:36\n",
      "...                     ...    ...      ...       ...                  ...\n",
      "918349  2020-10-31 23:17:34    7.0      5.3       7.5  2020-10-31 23:29:31\n",
      "918350  2020-10-31 23:29:31    7.5      5.3       8.0  2020-10-31 23:45:27\n",
      "918351  2020-10-31 23:45:27    8.0      5.3       7.7  2020-10-31 23:48:10\n",
      "918352  2020-10-31 23:48:10    7.7      5.3       7.5  2020-10-31 23:49:43\n",
      "918353  2020-10-31 23:49:43    7.5      5.3       7.5  2020-10-31 23:49:43\n",
      "\n",
      "[918354 rows x 5 columns]\n",
      "增加diff_time\n",
      "                updatetime  speed  draught  speed_v0       updatetime_t0  \\\n",
      "0      2017-07-02 18:59:10   11.4      4.3      11.4 2017-07-02 18:59:20   \n",
      "1      2017-07-02 18:59:20   11.4      4.3      11.1 2017-07-02 19:11:10   \n",
      "2      2017-07-02 19:11:10   11.1      4.3      11.1 2017-07-02 19:11:21   \n",
      "3      2017-07-02 19:11:21   11.1      4.3      10.7 2017-07-02 19:35:25   \n",
      "4      2017-07-02 19:35:25   10.7      4.3      10.7 2017-07-02 19:35:36   \n",
      "...                    ...    ...      ...       ...                 ...   \n",
      "918349 2020-10-31 23:17:34    7.0      5.3       7.5 2020-10-31 23:29:31   \n",
      "918350 2020-10-31 23:29:31    7.5      5.3       8.0 2020-10-31 23:45:27   \n",
      "918351 2020-10-31 23:45:27    8.0      5.3       7.7 2020-10-31 23:48:10   \n",
      "918352 2020-10-31 23:48:10    7.7      5.3       7.5 2020-10-31 23:49:43   \n",
      "918353 2020-10-31 23:49:43    7.5      5.3       7.5 2020-10-31 23:49:43   \n",
      "\n",
      "        diff_time  \n",
      "0        0.166667  \n",
      "1       11.833333  \n",
      "2        0.183333  \n",
      "3       24.066667  \n",
      "4        0.183333  \n",
      "...           ...  \n",
      "918349  11.950000  \n",
      "918350  15.933333  \n",
      "918351   2.716667  \n",
      "918352   1.550000  \n",
      "918353   0.000000  \n",
      "\n",
      "[918354 rows x 6 columns]\n",
      "增加acceleration\n",
      "                updatetime  speed  draught  speed_v0       updatetime_t0  \\\n",
      "0      2017-07-02 18:59:10   11.4      4.3      11.4 2017-07-02 18:59:20   \n",
      "1      2017-07-02 18:59:20   11.4      4.3      11.1 2017-07-02 19:11:10   \n",
      "2      2017-07-02 19:11:10   11.1      4.3      11.1 2017-07-02 19:11:21   \n",
      "3      2017-07-02 19:11:21   11.1      4.3      10.7 2017-07-02 19:35:25   \n",
      "4      2017-07-02 19:35:25   10.7      4.3      10.7 2017-07-02 19:35:36   \n",
      "...                    ...    ...      ...       ...                 ...   \n",
      "918349 2020-10-31 23:17:34    7.0      5.3       7.5 2020-10-31 23:29:31   \n",
      "918350 2020-10-31 23:29:31    7.5      5.3       8.0 2020-10-31 23:45:27   \n",
      "918351 2020-10-31 23:45:27    8.0      5.3       7.7 2020-10-31 23:48:10   \n",
      "918352 2020-10-31 23:48:10    7.7      5.3       7.5 2020-10-31 23:49:43   \n",
      "918353 2020-10-31 23:49:43    7.5      5.3       7.5 2020-10-31 23:49:43   \n",
      "\n",
      "        diff_time  acceleration  \n",
      "0        0.166667      0.000000  \n",
      "1       11.833333     -0.025352  \n",
      "2        0.183333      0.000000  \n",
      "3       24.066667     -0.016620  \n",
      "4        0.183333      0.000000  \n",
      "...           ...           ...  \n",
      "918349  11.950000      0.041841  \n",
      "918350  15.933333      0.031381  \n",
      "918351   2.716667     -0.110429  \n",
      "918352   1.550000     -0.129032  \n",
      "918353   0.000000      0.000000  \n",
      "\n",
      "[918354 rows x 7 columns]\n"
     ]
    }
   ],
   "source": [
    "beer = pd.read_csv(r\"./210075000.txt\", sep=',',names=['mmsi','updatetime','lon','lat','course','speed','heading','rot','status','static_info_updatetime','eta','dest','destination_tidied','draught'],usecols=['updatetime','speed','draught'])\n",
    "\n",
    "old_speed_updatetime = beer[['updatetime','speed']]    # 制作v0\n",
    "# print('原始两列')\n",
    "# print(old_speed_updatetime)\n",
    "\n",
    "old_speed_updatetime111=old_speed_updatetime.drop(0)                         # 删除第一行\n",
    "# print('删除第一行')\n",
    "# print(old_speed_updatetime111)\n",
    "\n",
    "last_line=old_speed_updatetime.iloc[len(old_speed_updatetime)-1]     # 取最后一行\n",
    "# print('取最后一行')\n",
    "# print(last_line)\n",
    "\n",
    "old_speed_updatetime222=old_speed_updatetime111.append(last_line, ignore_index=True)    # 重复最后一行\n",
    "# print('重复最后一行')\n",
    "# print(old_speed_updatetime222)\n",
    "\n",
    "\n",
    "beer['speed_v0']=old_speed_updatetime222['speed']                   # 把两行加到原始dataFrame上去\n",
    "beer['updatetime_t0']=old_speed_updatetime222['updatetime']\n",
    "print(beer)\n",
    "\n",
    "beer['updatetime'] = pd.to_datetime(beer['updatetime'])            # 2017-07-11 21:38:24   str转datetime类型\n",
    "beer['updatetime_t0'] = pd.to_datetime(beer['updatetime_t0'])      # 2017-07-11 21:38:24   str转datetime类型\n",
    "beer.dtypes\n",
    "\n",
    "beer['diff_time'] = (beer['updatetime_t0'] - beer['updatetime']).dt.seconds/60         # 计算diff_ime\n",
    "print(\"增加diff_time\")\n",
    "print(beer)\n",
    "\n",
    "\n",
    "beer['acceleration']=(beer['speed_v0']-beer['speed'])/beer['diff_time']       # 新增一列加速度\n",
    "print(\"增加acceleration\")\n",
    "\n",
    "beer['acceleration']=beer['acceleration'].fillna(0)         # 将加速度NaN补为0\n",
    "print(beer)\n"
   ]
  },
  {
   "cell_type": "code",
   "execution_count": 79,
   "metadata": {},
   "outputs": [
    {
     "name": "stdout",
     "output_type": "stream",
     "text": [
      "             draught   acceleration\n",
      "count  918354.000000  918354.000000\n",
      "mean        4.695545       0.334116\n",
      "std         1.005478      38.863846\n",
      "min         2.300000   -2046.000000\n",
      "25%         3.600000       0.000000\n",
      "50%         5.100000       0.000000\n",
      "75%         5.700000       0.000000\n",
      "max         8.500000    6138.000000\n"
     ]
    },
    {
     "name": "stderr",
     "output_type": "stream",
     "text": [
      "C:\\development\\Anaconda3\\lib\\site-packages\\ipykernel_launcher.py:6: SettingWithCopyWarning: \n",
      "A value is trying to be set on a copy of a slice from a DataFrame.\n",
      "Try using .loc[row_indexer,col_indexer] = value instead\n",
      "\n",
      "See the caveats in the documentation: https://pandas.pydata.org/pandas-docs/stable/user_guide/indexing.html#returning-a-view-versus-a-copy\n",
      "  \n"
     ]
    },
    {
     "name": "stdout",
     "output_type": "stream",
     "text": [
      "        draught  acceleration  cluster\n",
      "0           4.3      0.000000        0\n",
      "1           4.3     -0.025352        0\n",
      "2           4.3      0.000000        0\n",
      "3           4.3     -0.016620        0\n",
      "4           4.3      0.000000        0\n",
      "...         ...           ...      ...\n",
      "918349      5.3      0.041841        0\n",
      "918350      5.3      0.031381        0\n",
      "918351      5.3     -0.110429        0\n",
      "918352      5.3     -0.129032        0\n",
      "918353      5.3      0.000000        0\n",
      "\n",
      "[918354 rows x 3 columns]\n",
      "   cluster   draught  acceleration\n",
      "0        0  4.695533      0.100191\n",
      "1        1  4.948780   5239.756098\n"
     ]
    },
    {
     "data": {
      "text/plain": [
       "Text(0, 0.5, 'acceleration')"
      ]
     },
     "execution_count": 79,
     "metadata": {},
     "output_type": "execute_result"
    },
    {
     "data": {
      "image/png": "[encoded data removed]",
      "text/plain": [
       "<Figure size 432x288 with 1 Axes>"
      ]
     },
     "metadata": {
      "needs_background": "light"
     },
     "output_type": "display_data"
    }
   ],
   "source": [
    "X= beer[['draught','acceleration']]\n",
    "# X = (X-X.min())/(X.max()-X.min())\n",
    "print(X.describe())\n",
    "km = KMeans(n_clusters=2).fit(X)  \n",
    "\n",
    "X['cluster'] = km.labels_    # 将训练结果新增到beer的cluster列（0-1-2-1-2-0-2-2-1......）\n",
    "print(X)\n",
    "\n",
    "plt.rcParams['font.size'] = 14     # 设置绘图样式plt字体大小\n",
    "colors = np.array(['red', 'green', 'blue', 'yellow'])     # 簇为0位red，簇为1位green\n",
    "\n",
    "plt.scatter(X['draught'], X['acceleration'], c=colors[X['cluster']])         # 画data\n",
    "centers = X.groupby('cluster').mean().reset_index()    # 每个簇的原始数据计算各个属性平均值\n",
    "print(centers)           # 画质心\n",
    "plt.scatter(centers['draught'], centers['acceleration'], marker='+', s=150, c='black')\n",
    "\n",
    "plt.xlabel('draught')\n",
    "plt.ylabel('acceleration')"
   ]
  },
  {
   "cell_type": "markdown",
   "metadata": {},
   "source": [
    "# 有了两个质心，新来一条数据就调kmeans一次\n",
    "9.985294、6.508333是算法计算出的质心，8.221是测试数据"
   ]
  },
  {
   "cell_type": "code",
   "execution_count": 4,
   "metadata": {},
   "outputs": [
    {
     "name": "stdout",
     "output_type": "stream",
     "text": [
      "    draught  cluster\n",
      "0  9.985294        0\n",
      "1  6.508333        1\n",
      "2     8.221        1\n"
     ]
    }
   ],
   "source": [
    "data = {'draught': ['9.985294', '6.508333', '8.221']}\n",
    "df= pd.DataFrame(data)\n",
    "lastkm = KMeans(n_clusters=2).fit(df)  \n",
    "df['cluster'] = lastkm.labels_    # 将训练结果新增到beer的cluster列（0-1-2-1-2-0-2-2-1......）\n",
    "print(df)"
   ]
  }
 ],
 "metadata": {
  "kernelspec": {
   "display_name": "Python 3",
   "language": "python",
   "name": "python3"
  },
  "language_info": {
   "codemirror_mode": {
    "name": "ipython",
    "version": 3
   },
   "file_extension": ".py",
   "mimetype": "text/x-python",
   "name": "python",
   "nbconvert_exporter": "python",
   "pygments_lexer": "ipython3",
   "version": "3.7.6"
  }
 },
 "nbformat": 4,
 "nbformat_minor": 4
}

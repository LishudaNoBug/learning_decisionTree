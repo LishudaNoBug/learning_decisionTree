{
 "cells": [
  {
   "cell_type": "markdown",
   "metadata": {},
   "source": [
    "# 翟工基于k-means算法根据draught判断是装货还是卸货"
   ]
  },
  {
   "cell_type": "code",
   "execution_count": 20,
   "metadata": {},
   "outputs": [],
   "source": [
    "import pandas as pd\n",
    "import numpy as np\n",
    "import matplotlib.pyplot as plt\n",
    "from sklearn.cluster import KMeans\n",
    "%matplotlib inline"
   ]
  },
  {
   "cell_type": "code",
   "execution_count": 21,
   "metadata": {},
   "outputs": [
    {
     "name": "stdout",
     "output_type": "stream",
     "text": [
      "    draught\n",
      "0       6.2\n",
      "1       6.2\n",
      "2       6.2\n",
      "3       6.4\n",
      "4       6.6\n",
      "..      ...\n",
      "65     10.0\n",
      "66     10.1\n",
      "67     10.2\n",
      "68     10.5\n",
      "69     10.7\n",
      "\n",
      "[70 rows x 1 columns]\n"
     ]
    }
   ],
   "source": [
    "beer = pd.read_csv(r\"./9757539_ais.csv\", sep=' ')\n",
    "print(beer)\n",
    "X = beer[['draught']]"
   ]
  },
  {
   "cell_type": "code",
   "execution_count": 22,
   "metadata": {},
   "outputs": [
    {
     "name": "stdout",
     "output_type": "stream",
     "text": [
      "    draught  cluster\n",
      "0       6.2        1\n",
      "1       6.2        1\n",
      "2       6.2        1\n",
      "3       6.4        1\n",
      "4       6.6        1\n",
      "..      ...      ...\n",
      "65     10.0        0\n",
      "66     10.1        0\n",
      "67     10.2        0\n",
      "68     10.5        0\n",
      "69     10.7        0\n",
      "\n",
      "[70 rows x 2 columns]\n",
      "   cluster   draught\n",
      "0        0  9.985294\n",
      "1        1  6.508333\n"
     ]
    },
    {
     "data": {
      "text/plain": [
       "Text(0, 0.5, 'draught')"
      ]
     },
     "execution_count": 22,
     "metadata": {},
     "output_type": "execute_result"
    },
    {
     "data": {
      "image/png": "[encoded data removed]",
      "text/plain": [
       "<Figure size 432x288 with 1 Axes>"
      ]
     },
     "metadata": {
      "needs_background": "light"
     },
     "output_type": "display_data"
    }
   ],
   "source": [
    "km = KMeans(n_clusters=2).fit(X)  \n",
    "\n",
    "beer['cluster'] = km.labels_    # 将训练结果新增到beer的cluster列（0-1-2-1-2-0-2-2-1......）\n",
    "print(beer)\n",
    "\n",
    "plt.rcParams['font.size'] = 14     # 设置绘图样式plt字体大小\n",
    "colors = np.array(['red', 'green', 'blue', 'yellow'])     # 簇为0位red，簇为1位green\n",
    "\n",
    "# 画data\n",
    "plt.scatter(beer['draught'], beer['draught'], c=colors[beer['cluster']])\n",
    "# 画中心点\n",
    "centers = beer.groupby('cluster').mean().reset_index()   # 每个簇的原始数据计算各个属性平均值\n",
    "print(centers)\n",
    "plt.scatter(centers['draught'], centers['draught'], marker='+', s=150, c='black')\n",
    "\n",
    "plt.xlabel('draught')\n",
    "plt.ylabel('draught')"
   ]
  },
  {
   "cell_type": "markdown",
   "metadata": {},
   "source": [
    "# 有了两个质心，新来一条数据就调kmeans一次"
   ]
  },
  {
   "cell_type": "code",
   "execution_count": 34,
   "metadata": {},
   "outputs": [
    {
     "name": "stdout",
     "output_type": "stream",
     "text": [
      "    draught  cluster\n",
      "0  9.985294        1\n",
      "1  6.508333        0\n",
      "2     8.221        0\n"
     ]
    }
   ],
   "source": [
    "data = {'draught': ['9.985294', '6.508333', '8.221']}\n",
    "df= pd.DataFrame(data)\n",
    "lastkm = KMeans(n_clusters=2).fit(df)  \n",
    "df['cluster'] = lastkm.labels_    # 将训练结果新增到beer的cluster列（0-1-2-1-2-0-2-2-1......）\n",
    "print(df)"
   ]
  },
  {
   "cell_type": "code",
   "execution_count": null,
   "metadata": {},
   "outputs": [],
   "source": []
  }
 ],
 "metadata": {
  "kernelspec": {
   "display_name": "Python 3",
   "language": "python",
   "name": "python3"
  },
  "language_info": {
   "codemirror_mode": {
    "name": "ipython",
    "version": 3
   },
   "file_extension": ".py",
   "mimetype": "text/x-python",
   "name": "python",
   "nbconvert_exporter": "python",
   "pygments_lexer": "ipython3",
   "version": "3.7.6"
  }
 },
 "nbformat": 4,
 "nbformat_minor": 4
}

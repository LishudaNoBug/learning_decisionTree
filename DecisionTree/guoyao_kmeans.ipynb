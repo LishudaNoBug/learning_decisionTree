{
 "cells": [
  {
   "cell_type": "markdown",
   "metadata": {},
   "source": [
    "# 翟工基于k-means算法根据draught判断是装货还是卸货"
   ]
  },
  {
   "cell_type": "code",
   "execution_count": 3,
   "metadata": {},
   "outputs": [],
   "source": [
    "import pandas as pd\n",
    "import numpy as np\n",
    "import matplotlib.pyplot as plt\n",
    "from sklearn.cluster import KMeans\n",
    "%matplotlib inline"
   ]
  },
  {
   "cell_type": "code",
   "execution_count": 4,
   "metadata": {
    "scrolled": true
   },
   "outputs": [
    {
     "name": "stdout",
     "output_type": "stream",
     "text": [
      "                 updatetime  speed  draught  speed_v0        updatetime_t0\n",
      "0       2021-01-01 00:23:36   12.4      9.9      12.4  2021-01-01 00:23:46\n",
      "1       2021-01-01 00:23:46   12.4      9.9      12.4  2021-01-01 00:25:07\n",
      "2       2021-01-01 00:25:07   12.4      9.9      12.2  2021-01-01 00:32:49\n",
      "3       2021-01-01 00:32:49   12.2      9.9      12.2  2021-01-01 00:33:59\n",
      "4       2021-01-01 00:33:59   12.2      9.9      12.2  2021-01-01 00:34:08\n",
      "...                     ...    ...      ...       ...                  ...\n",
      "221241  2021-04-28 23:51:30   10.8     18.0      10.8  2021-04-28 23:52:39\n",
      "221242  2021-04-28 23:52:39   10.8     18.0      10.7  2021-04-28 23:53:51\n",
      "221243  2021-04-28 23:53:51   10.7     18.0      10.7  2021-04-28 23:55:01\n",
      "221244  2021-04-28 23:55:01   10.7     18.0      10.7  2021-04-28 23:56:10\n",
      "221245  2021-04-28 23:56:10   10.7     18.0      10.7  2021-04-28 23:56:10\n",
      "\n",
      "[221246 rows x 5 columns]\n",
      "增加diff_time\n",
      "                updatetime  speed  draught  speed_v0       updatetime_t0  \\\n",
      "0      2021-01-01 00:23:36   12.4      9.9      12.4 2021-01-01 00:23:46   \n",
      "1      2021-01-01 00:23:46   12.4      9.9      12.4 2021-01-01 00:25:07   \n",
      "2      2021-01-01 00:25:07   12.4      9.9      12.2 2021-01-01 00:32:49   \n",
      "3      2021-01-01 00:32:49   12.2      9.9      12.2 2021-01-01 00:33:59   \n",
      "4      2021-01-01 00:33:59   12.2      9.9      12.2 2021-01-01 00:34:08   \n",
      "...                    ...    ...      ...       ...                 ...   \n",
      "221241 2021-04-28 23:51:30   10.8     18.0      10.8 2021-04-28 23:52:39   \n",
      "221242 2021-04-28 23:52:39   10.8     18.0      10.7 2021-04-28 23:53:51   \n",
      "221243 2021-04-28 23:53:51   10.7     18.0      10.7 2021-04-28 23:55:01   \n",
      "221244 2021-04-28 23:55:01   10.7     18.0      10.7 2021-04-28 23:56:10   \n",
      "221245 2021-04-28 23:56:10   10.7     18.0      10.7 2021-04-28 23:56:10   \n",
      "\n",
      "        diff_time  \n",
      "0        0.166667  \n",
      "1        1.350000  \n",
      "2        7.700000  \n",
      "3        1.166667  \n",
      "4        0.150000  \n",
      "...           ...  \n",
      "221241   1.150000  \n",
      "221242   1.200000  \n",
      "221243   1.166667  \n",
      "221244   1.150000  \n",
      "221245   0.000000  \n",
      "\n",
      "[221246 rows x 6 columns]\n",
      "增加acceleration\n",
      "                updatetime  speed  draught  speed_v0       updatetime_t0  \\\n",
      "0      2021-01-01 00:23:36   12.4      9.9      12.4 2021-01-01 00:23:46   \n",
      "1      2021-01-01 00:23:46   12.4      9.9      12.4 2021-01-01 00:25:07   \n",
      "2      2021-01-01 00:25:07   12.4      9.9      12.2 2021-01-01 00:32:49   \n",
      "3      2021-01-01 00:32:49   12.2      9.9      12.2 2021-01-01 00:33:59   \n",
      "4      2021-01-01 00:33:59   12.2      9.9      12.2 2021-01-01 00:34:08   \n",
      "...                    ...    ...      ...       ...                 ...   \n",
      "221241 2021-04-28 23:51:30   10.8     18.0      10.8 2021-04-28 23:52:39   \n",
      "221242 2021-04-28 23:52:39   10.8     18.0      10.7 2021-04-28 23:53:51   \n",
      "221243 2021-04-28 23:53:51   10.7     18.0      10.7 2021-04-28 23:55:01   \n",
      "221244 2021-04-28 23:55:01   10.7     18.0      10.7 2021-04-28 23:56:10   \n",
      "221245 2021-04-28 23:56:10   10.7     18.0      10.7 2021-04-28 23:56:10   \n",
      "\n",
      "        diff_time  acceleration  \n",
      "0        0.166667      0.000000  \n",
      "1        1.350000      0.000000  \n",
      "2        7.700000     -0.025974  \n",
      "3        1.166667      0.000000  \n",
      "4        0.150000      0.000000  \n",
      "...           ...           ...  \n",
      "221241   1.150000      0.000000  \n",
      "221242   1.200000     -0.083333  \n",
      "221243   1.166667      0.000000  \n",
      "221244   1.150000      0.000000  \n",
      "221245   0.000000      0.000000  \n",
      "\n",
      "[221246 rows x 7 columns]\n"
     ]
    }
   ],
   "source": [
    "beer = pd.read_csv(r\"./354526000.txt\", sep=',',names=['mmsi','updatetime','lon','lat','course','speed','heading','rot','status','static_info_updatetime','eta','dest','destination_tidied','draught'],usecols=['updatetime','speed','draught'])\n",
    "\n",
    "old_speed_updatetime = beer[['updatetime','speed']]    # 制作v0\n",
    "# print('原始两列')\n",
    "# print(old_speed_updatetime)\n",
    "\n",
    "old_speed_updatetime111=old_speed_updatetime.drop(0)                         # 删除第一行\n",
    "# print('删除第一行')\n",
    "# print(old_speed_updatetime111)\n",
    "\n",
    "last_line=old_speed_updatetime.iloc[len(old_speed_updatetime)-1]     # 取最后一行\n",
    "# print('取最后一行')\n",
    "# print(last_line)\n",
    "\n",
    "old_speed_updatetime222=old_speed_updatetime111.append(last_line, ignore_index=True)    # 重复最后一行\n",
    "# print('重复最后一行')\n",
    "# print(old_speed_updatetime222)\n",
    "\n",
    "\n",
    "beer['speed_v0']=old_speed_updatetime222['speed']                   # 把两行加到原始dataFrame上去\n",
    "beer['updatetime_t0']=old_speed_updatetime222['updatetime']\n",
    "print(beer)\n",
    "\n",
    "beer['updatetime'] = pd.to_datetime(beer['updatetime'])            # 2017-07-11 21:38:24   str转datetime类型\n",
    "beer['updatetime_t0'] = pd.to_datetime(beer['updatetime_t0'])      # 2017-07-11 21:38:24   str转datetime类型\n",
    "beer.dtypes\n",
    "\n",
    "beer['diff_time'] = (beer['updatetime_t0'] - beer['updatetime']).dt.seconds/60         # 计算diff_ime\n",
    "print(\"增加diff_time\")\n",
    "print(beer)\n",
    "\n",
    "\n",
    "beer['acceleration']=(beer['speed_v0']-beer['speed'])/beer['diff_time']       # 新增一列加速度\n",
    "print(\"增加acceleration\")\n",
    "\n",
    "beer['acceleration']=beer['acceleration'].fillna(0)         # 将加速度NaN补为0\n",
    "print(beer)\n"
   ]
  },
  {
   "cell_type": "code",
   "execution_count": 5,
   "metadata": {},
   "outputs": [
    {
     "name": "stdout",
     "output_type": "stream",
     "text": [
      "             draught\n",
      "count  221246.000000\n",
      "mean       13.458849\n",
      "std         3.931317\n",
      "min         2.900000\n",
      "25%         9.900000\n",
      "50%        10.100000\n",
      "75%        18.000000\n",
      "max        18.000000\n"
     ]
    },
    {
     "name": "stderr",
     "output_type": "stream",
     "text": [
      "C:\\development\\Anaconda3\\lib\\site-packages\\ipykernel_launcher.py:6: SettingWithCopyWarning: \n",
      "A value is trying to be set on a copy of a slice from a DataFrame.\n",
      "Try using .loc[row_indexer,col_indexer] = value instead\n",
      "\n",
      "See the caveats in the documentation: https://pandas.pydata.org/pandas-docs/stable/user_guide/indexing.html#returning-a-view-versus-a-copy\n",
      "  \n"
     ]
    },
    {
     "name": "stdout",
     "output_type": "stream",
     "text": [
      "        draught  cluster\n",
      "0           9.9        0\n",
      "1           9.9        0\n",
      "2           9.9        0\n",
      "3           9.9        0\n",
      "4           9.9        0\n",
      "...         ...      ...\n",
      "221241     18.0        1\n",
      "221242     18.0        1\n",
      "221243     18.0        1\n",
      "221244     18.0        1\n",
      "221245     18.0        1\n",
      "\n",
      "[221246 rows x 2 columns]\n",
      "   cluster    draught\n",
      "0        0   9.938561\n",
      "1        1  17.999986\n",
      "2        2  12.598501\n"
     ]
    },
    {
     "data": {
      "text/plain": [
       "Text(0, 0.5, 'draught')"
      ]
     },
     "execution_count": 5,
     "metadata": {},
     "output_type": "execute_result"
    },
    {
     "data": {
      "image/png": "[encoded data removed]",
      "text/plain": [
       "<Figure size 432x288 with 1 Axes>"
      ]
     },
     "metadata": {
      "needs_background": "light"
     },
     "output_type": "display_data"
    }
   ],
   "source": [
    "X= beer[['draught']]\n",
    "# X = (X-X.min())/(X.max()-X.min())\n",
    "print(X.describe())\n",
    "km = KMeans(n_clusters=3).fit(X)  \n",
    "\n",
    "X['cluster'] = km.labels_    # 将训练结果新增到beer的cluster列（0-1-2-1-2-0-2-2-1......）\n",
    "print(X)\n",
    "\n",
    "plt.rcParams['font.size'] = 14     # 设置绘图样式plt字体大小\n",
    "colors = np.array(['red', 'green', 'blue', 'yellow'])     # 簇为0位red，簇为1位green\n",
    "\n",
    "plt.scatter(X['draught'], X['draught'], c=colors[X['cluster']])         # 画data\n",
    "centers = X.groupby('cluster').mean().reset_index()    # 每个簇的原始数据计算各个属性平均值\n",
    "print(centers)           # 画质心\n",
    "plt.scatter(centers['draught'], centers['draught'], marker='+', s=150, c='black')\n",
    "\n",
    "plt.xlabel('draught')\n",
    "plt.ylabel('draught')"
   ]
  },
  {
   "cell_type": "markdown",
   "metadata": {},
   "source": [
    "# 有了两个质心，新来一条数据就调kmeans一次\n",
    "9.985294、6.508333是算法计算出的质心，8.221是测试数据"
   ]
  },
  {
   "cell_type": "code",
   "execution_count": 4,
   "metadata": {},
   "outputs": [
    {
     "name": "stdout",
     "output_type": "stream",
     "text": [
      "    draught  cluster\n",
      "0  9.985294        0\n",
      "1  6.508333        1\n",
      "2     8.221        1\n"
     ]
    }
   ],
   "source": [
    "data = {'draught': ['9.985294', '6.508333', '8.221']}\n",
    "df= pd.DataFrame(data)\n",
    "lastkm = KMeans(n_clusters=2).fit(df)  \n",
    "df['cluster'] = lastkm.labels_    # 将训练结果新增到beer的cluster列（0-1-2-1-2-0-2-2-1......）\n",
    "print(df)"
   ]
  }
 ],
 "metadata": {
  "kernelspec": {
   "display_name": "Python 3",
   "language": "python",
   "name": "python3"
  },
  "language_info": {
   "codemirror_mode": {
    "name": "ipython",
    "version": 3
   },
   "file_extension": ".py",
   "mimetype": "text/x-python",
   "name": "python",
   "nbconvert_exporter": "python",
   "pygments_lexer": "ipython3",
   "version": "3.7.6"
  }
 },
 "nbformat": 4,
 "nbformat_minor": 4
}
